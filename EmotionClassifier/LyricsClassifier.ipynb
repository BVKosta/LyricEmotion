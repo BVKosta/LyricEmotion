{
 "cells": [
  {
   "cell_type": "code",
   "execution_count": 1,
   "metadata": {},
   "outputs": [],
   "source": [
    "import pandas as pd\n",
    "import re\n",
    "import nltk\n",
    "from nltk.corpus import stopwords, wordnet\n",
    "from nltk.stem import WordNetLemmatizer, PorterStemmer\n",
    "from sklearn.model_selection import train_test_split\n",
    "from sklearn.feature_extraction.text import TfidfVectorizer\n",
    "from sklearn.svm import LinearSVC\n",
    "from sklearn.metrics import accuracy_score, f1_score, confusion_matrix, plot_confusion_matrix"
   ]
  },
  {
   "cell_type": "raw",
   "metadata": {},
   "source": [
    "nltk.download(\"stopwords\")\n",
    "nltk.download('wordnet')"
   ]
  },
  {
   "cell_type": "code",
   "execution_count": 2,
   "metadata": {},
   "outputs": [],
   "source": [
    "def get_pos(word):\n",
    "    tag = nltk.pos_tag([word])[0][1][0].upper()\n",
    "    if tag == 'J':\n",
    "        return wordnet.ADJ\n",
    "    elif tag == 'N':\n",
    "        return wordnet.NOUN\n",
    "    elif tag == 'V':\n",
    "        return wordnet.VERB\n",
    "    elif tag == 'R':\n",
    "        return wordnet.ADV\n",
    "    else:\n",
    "        return wordnet.NOUN"
   ]
  },
  {
   "cell_type": "code",
   "execution_count": 3,
   "metadata": {},
   "outputs": [],
   "source": [
    "def str_from_ascii(l):\n",
    "    return \"\".join([chr(char) for char in l])"
   ]
  },
  {
   "cell_type": "code",
   "execution_count": 4,
   "metadata": {},
   "outputs": [],
   "source": [
    "cen_f = [102, 117, 99, 107]\n",
    "cen_n = [110, 105, 103, 103, 97]\n",
    "cen_b = [98, 105, 116, 99, 104]"
   ]
  },
  {
   "cell_type": "code",
   "execution_count": 5,
   "metadata": {},
   "outputs": [],
   "source": [
    "regex_patt = [(\"in' \", \"ing \"), (\"f\\*\\*\\*\", str_from_ascii(cen_f)), (\"n\\*\\*\\*\\*\", str_from_ascii(cen_n)), \n",
    "              (\"b\\*\\*\\*\\*\", str_from_ascii(cen_b)), (\"ggaz \", \"ggas \"), (\" 'til \", \" until \"),\n",
    "              (\" mother-f\", \" motherf\"), (\" c'mon\", \" come on\"), (\"wanna\", \"want to\"),\n",
    "              (\"'mma|'ma\", \" going to\")]\n",
    "\n",
    "def normalize_spelling(lower_case_data):\n",
    "    for to_replace, replace_with in regex_patt:\n",
    "        lower_case_data = re.sub(to_replace, replace_with, lower_case_data)   \n",
    "    return lower_case_data"
   ]
  },
  {
   "cell_type": "code",
   "execution_count": 6,
   "metadata": {},
   "outputs": [],
   "source": [
    "def text_to_words(text):\n",
    "    lower_text = text.lower()\n",
    "    norm_text = normalize_spelling(lower_text)\n",
    "    letters_only = re.sub(\"[^a-zA-Z]\", \" \", norm_text)\n",
    "    letters_only = \" \".join(letters_only.split())\n",
    "    words = letters_only.split()\n",
    "    words = [word for word in words if word not in stopwords.words(\"english\")]\n",
    "    return words"
   ]
  },
  {
   "cell_type": "code",
   "execution_count": 7,
   "metadata": {},
   "outputs": [],
   "source": [
    "def tokenize_and_stemming(data):\n",
    "    words = text_to_words(data)\n",
    "    stem_words = [PorterStemmer().stem(word) for word in words]\n",
    "    return stem_words"
   ]
  },
  {
   "cell_type": "code",
   "execution_count": 8,
   "metadata": {},
   "outputs": [],
   "source": [
    "def tokenize_and_lemmatization(data):\n",
    "    words = text_to_words(data)\n",
    "    lem_words = [WordNetLemmatizer().lemmatize(word, get_pos(word)) for word in words]\n",
    "    return lem_words"
   ]
  },
  {
   "cell_type": "code",
   "execution_count": 9,
   "metadata": {},
   "outputs": [],
   "source": [
    "data = pd.read_csv(\"Datasets/LyricEmotion.csv\")"
   ]
  },
  {
   "cell_type": "code",
   "execution_count": 10,
   "metadata": {},
   "outputs": [],
   "source": [
    "train, test = train_test_split(data, test_size = 0.2)\n",
    "y_train = train[\"Emotion\"]\n",
    "y_test = test[\"Emotion\"]"
   ]
  },
  {
   "cell_type": "raw",
   "metadata": {},
   "source": [
    "\n",
    "\n",
    "\n",
    "Vectorization of data with tf-idf vectorizer using tokenization & stemming"
   ]
  },
  {
   "cell_type": "code",
   "execution_count": 11,
   "metadata": {},
   "outputs": [],
   "source": [
    "tf = TfidfVectorizer(tokenizer = tokenize_and_stemming, ngram_range=(1, 2))\n",
    "tf.fit_transform(data[\"Lyric\"])\n",
    "train_vect = tf.transform(train[\"Lyric\"])\n",
    "test_vect = tf.transform(test[\"Lyric\"])"
   ]
  },
  {
   "cell_type": "code",
   "execution_count": null,
   "metadata": {},
   "outputs": [],
   "source": []
  },
  {
   "cell_type": "code",
   "execution_count": 12,
   "metadata": {},
   "outputs": [
    {
     "name": "stdout",
     "output_type": "stream",
     "text": [
      "Accuracy:  0.8340192043895748\n"
     ]
    }
   ],
   "source": [
    "svc = LinearSVC(tol = 1e-05)\n",
    "classifier = svc.fit(train_vect, y_train)\n",
    "test_pred = svc.predict(test_vect)\n",
    "\n",
    "print(\"Accuracy: \", accuracy_score(y_test, test_pred))"
   ]
  },
  {
   "cell_type": "code",
   "execution_count": 13,
   "metadata": {},
   "outputs": [
    {
     "data": {
      "text/plain": [
       "<sklearn.metrics._plot.confusion_matrix.ConfusionMatrixDisplay at 0x26201e84070>"
      ]
     },
     "execution_count": 13,
     "metadata": {},
     "output_type": "execute_result"
    },
    {
     "data": {
      "image/png": "[encoded data removed]",
      "text/plain": [
       "<Figure size 432x288 with 2 Axes>"
      ]
     },
     "metadata": {
      "needs_background": "light"
     },
     "output_type": "display_data"
    }
   ],
   "source": [
    "\n",
    "plot_confusion_matrix(classifier, test_vect, y_test, normalize = 'true')\n"
   ]
  },
  {
   "cell_type": "raw",
   "metadata": {},
   "source": [
    "\n",
    "\n",
    "\n",
    "\n",
    "Vectorization of data with tf-idf vectorizer using tokenization & lemmatization "
   ]
  },
  {
   "cell_type": "code",
   "execution_count": 14,
   "metadata": {},
   "outputs": [],
   "source": [
    "tf2 = TfidfVectorizer(tokenizer = tokenize_and_lemmatization, ngram_range=(1, 2))\n",
    "tf2.fit_transform(data[\"Lyric\"])\n",
    "train_vect2 = tf2.transform(train[\"Lyric\"])\n",
    "test_vect2 = tf2.transform(test[\"Lyric\"])"
   ]
  },
  {
   "cell_type": "code",
   "execution_count": 15,
   "metadata": {},
   "outputs": [
    {
     "name": "stdout",
     "output_type": "stream",
     "text": [
      "Accuracy:  0.8299039780521262\n"
     ]
    }
   ],
   "source": [
    "\n",
    "svc2 = LinearSVC(tol = 1e-05)\n",
    "classifier2 = svc2.fit(train_vect2, y_train)\n",
    "test_pred2 = svc2.predict(test_vect2)\n",
    "\n",
    "print(\"Accuracy: \",accuracy_score(y_test, test_pred2))\n"
   ]
  },
  {
   "cell_type": "code",
   "execution_count": 16,
   "metadata": {},
   "outputs": [
    {
     "data": {
      "text/plain": [
       "<sklearn.metrics._plot.confusion_matrix.ConfusionMatrixDisplay at 0x26202e87a90>"
      ]
     },
     "execution_count": 16,
     "metadata": {},
     "output_type": "execute_result"
    },
    {
     "data": {
      "image/png": "[encoded data removed]",
      "text/plain": [
       "<Figure size 432x288 with 2 Axes>"
      ]
     },
     "metadata": {
      "needs_background": "light"
     },
     "output_type": "display_data"
    }
   ],
   "source": [
    "\n",
    "plot_confusion_matrix(classifier2, test_vect2, y_test, normalize = 'true')\n"
   ]
  }
 ],
 "metadata": {
  "kernelspec": {
   "display_name": "Python 3",
   "language": "python",
   "name": "python3"
  },
  "language_info": {
   "codemirror_mode": {
    "name": "ipython",
    "version": 3
   },
   "file_extension": ".py",
   "mimetype": "text/x-python",
   "name": "python",
   "nbconvert_exporter": "python",
   "pygments_lexer": "ipython3",
   "version": "3.9.1"
  }
 },
 "nbformat": 4,
 "nbformat_minor": 4
}
